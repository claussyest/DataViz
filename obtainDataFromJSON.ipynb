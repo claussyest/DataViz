{
  "nbformat": 4,
  "nbformat_minor": 0,
  "metadata": {
    "colab": {
      "provenance": []
    },
    "kernelspec": {
      "name": "python3",
      "display_name": "Python 3"
    },
    "language_info": {
      "name": "python"
    }
  },
  "cells": [
    {
      "cell_type": "code",
      "execution_count": 1,
      "metadata": {
        "id": "EMwaJs52jjhf"
      },
      "outputs": [],
      "source": [
        "import pandas as pd\n",
        "import numpy as np\n",
        "import networkx as nx\n",
        "import json\n",
        "import itertools\n",
        "from itertools import count\n",
        "\n",
        "import matplotlib as mpl\n",
        "import matplotlib.pyplot as plt\n",
        "import matplotlib.patches as mpatches\n",
        "import warnings\n",
        "\n",
        "warnings.filterwarnings('ignore')\n",
        "plt.rcParams['axes.titlesize'] = 30"
      ]
    },
    {
      "cell_type": "code",
      "source": [
        "with open('/content/characters.json', 'r') as f:\n",
        "    data=f.read()\n",
        "    f.close()\n",
        "obj = json.loads(data)   \n",
        "\n",
        "headers = list()\n",
        "for i in range(len(obj['characters'])):\n",
        "    headers.extend(list(obj['characters'][i].keys()))\n",
        "headers = list(set(headers))\n",
        "\n",
        "dict_1 = {key:[] for key in headers}\n",
        "for _,character in enumerate(obj['characters']):\n",
        "    for attribute in list(dict_1.keys()):\n",
        "        try:\n",
        "            dict_1[attribute].append(character[attribute])\n",
        "        except KeyError:\n",
        "            dict_1[attribute].append(None)"
      ],
      "metadata": {
        "id": "PZEqtu00jnPF"
      },
      "execution_count": 4,
      "outputs": []
    },
    {
      "cell_type": "code",
      "source": [
        "processed_df = pd.DataFrame.from_dict(dict_1)\n",
        "processed_df = processed_df.drop(['firstname','lastname','years','sicMundus'],axis=1)\n",
        "rel_heders = ['killedBy','parentOf','married','siblings']\n",
        "dict_2 = {'character1':[],'relationship':[],'character2':[]}\n",
        "for i,row in processed_df.iterrows():\n",
        "    for rel in rel_heders:\n",
        "        if row[rel] is not None:\n",
        "            dict_2['character1'].append(row['name'])\n",
        "            dict_2['relationship'].append(rel)\n",
        "            dict_2['character2'].append(row[rel])\n",
        "\n",
        "rels_df = pd.DataFrame.from_dict(dict_2)\n",
        "relationnships_df = rels_df.explode('character2')\n",
        "\n",
        "properties_df = processed_df[['name','alias','gender']]\n",
        "properties_df['alias'] = properties_df['alias'].apply(lambda x:x[0] if x is not None else x)"
      ],
      "metadata": {
        "id": "4afdrZ8_jrXg"
      },
      "execution_count": 5,
      "outputs": []
    },
    {
      "cell_type": "code",
      "source": [
        "properties_df.to_excel('properties_df.xlsx')  \n",
        "relationnships_df.to_excel('relationnships_df.xlsx') "
      ],
      "metadata": {
        "id": "hueF2_UKj40o"
      },
      "execution_count": 6,
      "outputs": []
    },
    {
      "cell_type": "code",
      "source": [
        "properties_df.to_csv('properties_df.csv', index=False)\n",
        "relationnships_df.to_csv('relationnships_df.csv', index=False)"
      ],
      "metadata": {
        "id": "xtYDpfRzk05A"
      },
      "execution_count": 9,
      "outputs": []
    }
  ]
}